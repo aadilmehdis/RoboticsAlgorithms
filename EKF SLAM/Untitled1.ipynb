{
 "cells": [
  {
   "cell_type": "code",
   "execution_count": null,
   "metadata": {
    "collapsed": true
   },
   "outputs": [],
   "source": [
    "def predict_motion(X_t, u, dt):\n",
    "    '''\n",
    "        Function to update the state space based on the \n",
    "        obot's motion.\n",
    "        Using the velocity-based model for predicting the motion\n",
    "        of the robot.\n",
    "        \n",
    "        Parameters:\n",
    "        X_t       : 3*1 numpy vector specifying the current position of the robot\n",
    "        u         : 2*1 numpy vector specifying the control command\n",
    "        dt        : delta time\n",
    "        \n",
    "        Return\n",
    "        X_tt\n",
    "    '''\n",
    "    rotation_factor = np.array([\n",
    "        [np.cos(X[2]), 0],\n",
    "        [np.sin(X[2]), 0],\n",
    "        [           0, 1],\n",
    "    ])\n",
    "    X_tt = X_t + dt * (rotation_factor @ u)\n",
    "    \n",
    "    return X_tt    "
   ]
  },
  {
   "cell_type": "code",
   "execution_count": null,
   "metadata": {
    "collapsed": true
   },
   "outputs": [],
   "source": [
    "def predict_range_bearing()"
   ]
  },
  {
   "cell_type": "code",
   "execution_count": null,
   "metadata": {
    "collapsed": true
   },
   "outputs": [],
   "source": [
    "class EKF(object):\n",
    "    \n",
    "    def __init__(self):\n",
    "        X_t    = \n",
    "        Cov_t  =\n",
    "         "
   ]
  }
 ],
 "metadata": {
  "kernelspec": {
   "display_name": "Python 3",
   "language": "python",
   "name": "python3"
  },
  "language_info": {
   "codemirror_mode": {
    "name": "ipython",
    "version": 3
   },
   "file_extension": ".py",
   "mimetype": "text/x-python",
   "name": "python",
   "nbconvert_exporter": "python",
   "pygments_lexer": "ipython3",
   "version": "3.6.3"
  }
 },
 "nbformat": 4,
 "nbformat_minor": 2
}
